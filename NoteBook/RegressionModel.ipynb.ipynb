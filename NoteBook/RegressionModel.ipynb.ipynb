{
 "cells": [
  {
   "cell_type": "markdown",
   "metadata": {},
   "source": [
    "# Data Ingestion"
   ]
  },
  {
   "cell_type": "code",
   "execution_count": 1,
   "metadata": {},
   "outputs": [
    {
     "name": "stdout",
     "output_type": "stream",
     "text": [
      "Raw data view (Unix timestamp):\n",
      "         time      high       low      open  volumefrom     volumeto  \\\n",
      "0  1607119200  18877.60  18603.79  18821.67     3163.72  59255159.46   \n",
      "1  1607122800  18847.04  18630.30  18678.83     2667.11  49984348.67   \n",
      "\n",
      "      close conversionType conversionSymbol  \n",
      "0  18678.83         direct                   \n",
      "1  18665.00         direct                   \n"
     ]
    },
    {
     "data": {
      "application/javascript": [
       "\n",
       "        if (window._pyforest_update_imports_cell) { window._pyforest_update_imports_cell('import pandas as pd'); }\n",
       "    "
      ],
      "text/plain": [
       "<IPython.core.display.Javascript object>"
      ]
     },
     "metadata": {},
     "output_type": "display_data"
    },
    {
     "data": {
      "application/javascript": [
       "\n",
       "        if (window._pyforest_update_imports_cell) { window._pyforest_update_imports_cell('import pandas as pd'); }\n",
       "    "
      ],
      "text/plain": [
       "<IPython.core.display.Javascript object>"
      ]
     },
     "metadata": {},
     "output_type": "display_data"
    },
    {
     "data": {
      "application/javascript": [
       "\n",
       "        if (window._pyforest_update_imports_cell) { window._pyforest_update_imports_cell('import pandas as pd'); }\n",
       "    "
      ],
      "text/plain": [
       "<IPython.core.display.Javascript object>"
      ]
     },
     "metadata": {},
     "output_type": "display_data"
    },
    {
     "data": {
      "application/javascript": [
       "\n",
       "        if (window._pyforest_update_imports_cell) { window._pyforest_update_imports_cell('import pandas as pd'); }\n",
       "    "
      ],
      "text/plain": [
       "<IPython.core.display.Javascript object>"
      ]
     },
     "metadata": {},
     "output_type": "display_data"
    },
    {
     "name": "stdout",
     "output_type": "stream",
     "text": [
      "Changed timestamp (readable view)\n",
      "                         high       low      open  volumefrom      volumeto  \\\n",
      "time                                                                          \n",
      "2021-02-26 05:00:00  47166.75  45504.45  46995.03     4894.15  2.259130e+08   \n",
      "2021-02-26 06:00:00  46463.29  45509.65  45534.74     2271.51  1.044999e+08   \n",
      "\n",
      "                        close conversionType conversionSymbol  \n",
      "time                                                           \n",
      "2021-02-26 05:00:00  45534.74         direct                   \n",
      "2021-02-26 06:00:00  46049.94         direct                   \n"
     ]
    }
   ],
   "source": [
    "# necessary dependencies\n",
    "from pyforest import *\n",
    "import datetime, pickle, copy, warnings\n",
    "import cryptocompare\n",
    "import requests\n",
    "import plotly.express as px\n",
    "import plotly.graph_objects as go\n",
    "from time import time\n",
    "from pandas import DataFrame, concat\n",
    "from math import sqrt\n",
    "\n",
    "# Schikit-learn\n",
    "from sklearn import metrics\n",
    "from sklearn.linear_model import ElasticNet\n",
    "from sklearn import preprocessing\n",
    "from sklearn.metrics import mean_squared_error\n",
    "from sklearn.metrics import mean_absolute_error, r2_score\n",
    "from sklearn.model_selection import TimeSeriesSplit, cross_val_score\n",
    "from sklearn.metrics import r2_score\n",
    "import sklearn.externals\n",
    "import joblib\n",
    "\n",
    "# ONNX run-tine\n",
    "from skl2onnx import convert_sklearn\n",
    "from skl2onnx.common.data_types import FloatTensorType\n",
    "import onnxruntime as rt\n",
    "\n",
    "\n",
    "apiKey = \"43b01c420b66888ce4c91b364647600814578c186e8604322152f44c641ebbc1\"\n",
    "url = \"https://min-api.cryptocompare.com/data/histohour\"\n",
    "\n",
    "# BTC 1st 2000 datapoints\n",
    "payload = {\n",
    "    \"api_key\": apiKey, \n",
    "    \"fsym\": \"BTC\", \n",
    "    \"tsym\": \"USD\", \n",
    "    \"limit\": 2000\n",
    "}\n",
    "\n",
    "result = requests.get(url, params=payload).json()\n",
    "\n",
    "BitCoin1 = DataFrame(result[\"Data\"])\n",
    "\n",
    "print('Raw data view (Unix timestamp):')\n",
    "print(BitCoin1.head(2))\n",
    "\n",
    "BitCoin1[\"time\"] = pd.to_datetime(BitCoin1[\"time\"], unit=\"s\")\n",
    "\n",
    "BitCoin1.set_index(\"time\", inplace=True)\n",
    "\n",
    "# 2nd 2000 datapoints\n",
    "payload = {\n",
    "    \"api_key\": apiKey,\n",
    "    \"fsym\": \"BTC\",\n",
    "    \"tsym\": \"USD\",\n",
    "    \"limit\": 2000,\n",
    "    \"toTs\": (1601632800),\n",
    "}\n",
    "\n",
    "result = requests.get(url, params=payload).json()\n",
    "\n",
    "BitCoin2 = DataFrame(result[\"Data\"])\n",
    "\n",
    "BitCoin2[\"time\"] = pd.to_datetime(BitCoin2[\"time\"], unit=\"s\")\n",
    "\n",
    "BitCoin2.set_index(\"time\", inplace=True)\n",
    "\n",
    "# 3rd 2000 datapoints\n",
    "payload = {\n",
    "    \"api_key\": apiKey,\n",
    "    \"fsym\": \"BTC\",\n",
    "    \"tsym\": \"USD\",\n",
    "    \"limit\": 2000,\n",
    "    \"toTs\": (1593572400), # original time in unix format\n",
    "}\n",
    "\n",
    "result = requests.get(url, params=payload).json()\n",
    "\n",
    "BitCoin3 = DataFrame(result[\"Data\"])\n",
    "\n",
    "BitCoin3[\"time\"] = pd.to_datetime(BitCoin3[\"time\"], unit=\"s\")\n",
    "\n",
    "BitCoin3.set_index(\"time\", inplace=True)\n",
    "\n",
    "# 4th 2000 datapoints\n",
    "payload = {\n",
    "    \"api_key\": apiKey,\n",
    "    \"fsym\": \"BTC\",\n",
    "    \"tsym\": \"USD\",\n",
    "    \"limit\": 2000,\n",
    "    \"toTs\": (1596571200),\n",
    "}\n",
    "\n",
    "result = requests.get(url, params=payload).json()\n",
    "\n",
    "BitCoin4 = DataFrame(result[\"Data\"])\n",
    "\n",
    "BitCoin4[\"time\"] = pd.to_datetime(BitCoin4[\"time\"], unit=\"s\")\n",
    "\n",
    "BitCoin4.set_index(\"time\", inplace=True)\n",
    "\n",
    "# combining all bitcoin data (8000 data points)\n",
    "combineData1 = BitCoin2.append(BitCoin1)\n",
    "\n",
    "combineData2 = BitCoin3.append(combineData1)\n",
    "\n",
    "BitCoin = BitCoin4.append(combineData2)  # final BitCoin dataset\n",
    "\n",
    "print('Changed timestamp (readable view)')\n",
    "print(BitCoin.tail(2))\n",
    "# saving btc data set\n",
    "#BitCoin.to_csv(\"BitCoinRaw.csv\")"
   ]
  },
  {
   "cell_type": "markdown",
   "metadata": {},
   "source": [
    "# Feature engineering"
   ]
  },
  {
   "cell_type": "code",
   "execution_count": 2,
   "metadata": {},
   "outputs": [
    {
     "data": {
      "application/javascript": [
       "\n",
       "        if (window._pyforest_update_imports_cell) { window._pyforest_update_imports_cell('import pandas as pd'); }\n",
       "    "
      ],
      "text/plain": [
       "<IPython.core.display.Javascript object>"
      ]
     },
     "metadata": {},
     "output_type": "display_data"
    },
    {
     "name": "stdout",
     "output_type": "stream",
     "text": [
      "                         high       low      open     close      Lag1  \\\n",
      "time                                                                    \n",
      "2021-02-26 02:00:00  47767.06  46166.00  46470.54  47362.70  46470.54   \n",
      "2021-02-26 03:00:00  47593.68  46754.40  47362.70  47339.76  47362.70   \n",
      "2021-02-26 04:00:00  47750.84  46823.35  47339.76  46995.03  47339.76   \n",
      "2021-02-26 05:00:00  47166.75  45504.45  46995.03  45534.74  46995.03   \n",
      "2021-02-26 06:00:00  46463.29  45509.65  45534.74  46238.90  45534.74   \n",
      "\n",
      "                         Lag2      Lag3      Lag4      Lag5      Lag6  ...  \\\n",
      "time                                                                   ...   \n",
      "2021-02-26 02:00:00  46818.45  47082.87  48197.61  48077.07  49174.36  ...   \n",
      "2021-02-26 03:00:00  46470.54  46818.45  47082.87  48197.61  48077.07  ...   \n",
      "2021-02-26 04:00:00  47362.70  46470.54  46818.45  47082.87  48197.61  ...   \n",
      "2021-02-26 05:00:00  47339.76  47362.70  46470.54  46818.45  47082.87  ...   \n",
      "2021-02-26 06:00:00  46995.03  47339.76  47362.70  46470.54  46818.45  ...   \n",
      "\n",
      "                         Lag8       S_10      Corr      d_20          5EMA  \\\n",
      "time                                                                         \n",
      "2021-02-26 02:00:00  49551.45  48174.100  0.877654  39401.37  47343.011446   \n",
      "2021-02-26 03:00:00  49480.80  47955.561  0.820390  39415.29  47341.927630   \n",
      "2021-02-26 04:00:00  49174.36  47699.919  0.790534  39207.21  47226.295087   \n",
      "2021-02-26 05:00:00  48077.07  47305.313  0.811298  39051.91  46662.443391   \n",
      "2021-02-26 06:00:00  48197.61  47011.767  0.768032  39327.71  46521.262261   \n",
      "\n",
      "                            10EMA         20EMA       mean   returns  \\\n",
      "time                                                                   \n",
      "2021-02-26 02:00:00  48023.424682  48784.300505  46966.530  1.919840   \n",
      "2021-02-26 03:00:00  47899.122012  48646.725219  47174.040 -0.048435   \n",
      "2021-02-26 04:00:00  47734.741646  48489.420912  47287.095 -0.728204   \n",
      "2021-02-26 05:00:00  47334.741347  48208.022730  46335.600 -3.107329   \n",
      "2021-02-26 06:00:00  47135.497466  48020.487232  45986.470  1.546424   \n",
      "\n",
      "                           volume  \n",
      "time                               \n",
      "2021-02-26 02:00:00  1.955545e+08  \n",
      "2021-02-26 03:00:00  1.516583e+08  \n",
      "2021-02-26 04:00:00  1.267504e+08  \n",
      "2021-02-26 05:00:00  2.259081e+08  \n",
      "2021-02-26 06:00:00  7.285866e+07  \n",
      "\n",
      "[5 rows x 21 columns]\n"
     ]
    }
   ],
   "source": [
    "df = pd.read_csv(\"BitCoinRaw.csv\")\n",
    "df.set_index(\"time\", inplace=True)\n",
    "\n",
    "df.drop(\n",
    "    columns=[\n",
    "    \"conversionType\", \n",
    "    \"conversionSymbol\"\n",
    "    ], \n",
    "        axis=1, inplace=True\n",
    ")\n",
    "\n",
    "values = DataFrame(df.close.values)\n",
    "lags = 8\n",
    "columns = [values]\n",
    "for i in range(1, (lags + 1)):\n",
    "    columns.append(values.shift(i))\n",
    "\n",
    "dt = concat(columns, axis=1)\n",
    "\n",
    "columns = [\"Lag\"]\n",
    "for i in range(1, (lags + 1)):\n",
    "    columns.append(\"Lag\" + str(i))\n",
    "dt.columns = columns\n",
    "dt.index = df.index\n",
    "\n",
    "finalDataSet = concat([df, dt], axis=1)\n",
    "\n",
    "finalDataSet.dropna(inplace=True)\n",
    "\n",
    "finalDataSet[\"S_10\"] = finalDataSet[\"close\"].rolling(window=10).mean()\n",
    "\n",
    "finalDataSet[\"Corr\"] = (\n",
    "    finalDataSet[\"close\"].rolling(window=10).corr(finalDataSet[\"S_10\"])\n",
    ")\n",
    "\n",
    "finalDataSet[\"d_20\"] = finalDataSet[\"close\"].shift(480)\n",
    "\n",
    "finalDataSet[\"5EMA\"] = (\n",
    "    finalDataSet[\"close\"].ewm(span=5, adjust=True, ignore_na=True).mean()\n",
    ")\n",
    "\n",
    "finalDataSet[\"10EMA\"] = (\n",
    "    finalDataSet[\"close\"].ewm(span=10, adjust=True, ignore_na=True).mean()\n",
    ")\n",
    "\n",
    "finalDataSet[\"20EMA\"] = (\n",
    "    finalDataSet[\"close\"].ewm(span=20, adjust=True, ignore_na=True).mean()\n",
    ")\n",
    "\n",
    "finalDataSet[\"mean\"] = (finalDataSet[\"low\"] + finalDataSet[\"high\"]) / 2\n",
    "\n",
    "finalDataSet[\"returns\"] = (\n",
    "    (finalDataSet[\"close\"] - finalDataSet[\"open\"]) / finalDataSet[\"open\"] * 100.0\n",
    ")\n",
    "\n",
    "finalDataSet[\"volume\"] = finalDataSet[\"volumeto\"] - finalDataSet[\"volumefrom\"]\n",
    "\n",
    "finalDataSet.drop([\"volumefrom\", \"volumeto\"], 1, inplace=True)\n",
    "\n",
    "finalDataSet.dropna(inplace=True)\n",
    "\n",
    "finalDataSet = finalDataSet.drop([\"Lag\"], axis=1)\n",
    "\n",
    "finalDataSet = finalDataSet.astype(float)\n",
    "\n",
    "finalDataSet = finalDataSet.sort_index(ascending=True)\n",
    "# dataframe.head(2)\n",
    "\n",
    "# save data\n",
    "finalDataSet.to_csv(\"finalDataSet.csv\", header=True)\n",
    "\n",
    "print(finalDataSet.tail())"
   ]
  },
  {
   "cell_type": "markdown",
   "metadata": {},
   "source": [
    "## Train-Test data set"
   ]
  },
  {
   "cell_type": "code",
   "execution_count": 3,
   "metadata": {},
   "outputs": [
    {
     "data": {
      "application/javascript": [
       "\n",
       "        if (window._pyforest_update_imports_cell) { window._pyforest_update_imports_cell('import pandas as pd'); }\n",
       "    "
      ],
      "text/plain": [
       "<IPython.core.display.Javascript object>"
      ]
     },
     "metadata": {},
     "output_type": "display_data"
    },
    {
     "data": {
      "application/javascript": [
       "\n",
       "        if (window._pyforest_update_imports_cell) { window._pyforest_update_imports_cell('import pandas as pd\\nimport numpy as np'); }\n",
       "    "
      ],
      "text/plain": [
       "<IPython.core.display.Javascript object>"
      ]
     },
     "metadata": {},
     "output_type": "display_data"
    },
    {
     "data": {
      "application/javascript": [
       "\n",
       "        if (window._pyforest_update_imports_cell) { window._pyforest_update_imports_cell('import pandas as pd\\nimport numpy as np'); }\n",
       "    "
      ],
      "text/plain": [
       "<IPython.core.display.Javascript object>"
      ]
     },
     "metadata": {},
     "output_type": "display_data"
    }
   ],
   "source": [
    "finalDataSet = pd.read_csv(\"finalDataSet.csv\")\n",
    "finalDataSet.set_index(\"time\", inplace=True)\n",
    "# print(df.tail())\n",
    "\n",
    "\n",
    "foreCastColumn = \"close\"  # creating label\n",
    "\n",
    "foreCastOut = int(12)  # prediction for next 12 hrs\n",
    "\n",
    "finalDataSet[\"label\"] = finalDataSet[foreCastColumn].shift(-foreCastOut)\n",
    "\n",
    "X = np.array(finalDataSet.drop([\"label\"], axis=1))\n",
    "\n",
    "# normalize data\n",
    "X = preprocessing.scale(X)\n",
    "\n",
    "X_foreCastOut = X[-foreCastOut:]\n",
    "\n",
    "X = X[:-foreCastOut]\n",
    "\n",
    "finalDataSet.dropna(inplace=True)\n",
    "\n",
    "y = np.array(finalDataSet[\"label\"])"
   ]
  },
  {
   "cell_type": "markdown",
   "metadata": {},
   "source": [
    "## Time-series cross validation"
   ]
  },
  {
   "cell_type": "code",
   "execution_count": 4,
   "metadata": {},
   "outputs": [],
   "source": [
    "# Split the data into train and test data set\n",
    "tscv = TimeSeriesSplit(n_splits=5)\n",
    "for train_index, test_index in tscv.split(X, y):\n",
    "    X_train, X_test = X[train_index], X[test_index]\n",
    "    y_train, y_test = y[train_index], y[test_index]"
   ]
  },
  {
   "cell_type": "markdown",
   "metadata": {},
   "source": [
    "## Model development"
   ]
  },
  {
   "cell_type": "code",
   "execution_count": 5,
   "metadata": {},
   "outputs": [
    {
     "name": "stderr",
     "output_type": "stream",
     "text": [
      "C:\\Users\\Sarit\\anaconda3\\lib\\site-packages\\sklearn\\linear_model\\_coordinate_descent.py:529: ConvergenceWarning: Objective did not converge. You might want to increase the number of iterations. Duality gap: 680126318.3092297, tolerance: 14690487.896849852\n",
      "  model = cd_fast.enet_coordinate_descent(\n",
      "C:\\Users\\Sarit\\anaconda3\\lib\\site-packages\\sklearn\\linear_model\\_coordinate_descent.py:529: ConvergenceWarning: Objective did not converge. You might want to increase the number of iterations. Duality gap: 25041738.446229395, tolerance: 123419.72625487612\n",
      "  model = cd_fast.enet_coordinate_descent(\n",
      "C:\\Users\\Sarit\\anaconda3\\lib\\site-packages\\sklearn\\linear_model\\_coordinate_descent.py:529: ConvergenceWarning: Objective did not converge. You might want to increase the number of iterations. Duality gap: 35984242.90285016, tolerance: 208018.32587141843\n",
      "  model = cd_fast.enet_coordinate_descent(\n",
      "C:\\Users\\Sarit\\anaconda3\\lib\\site-packages\\sklearn\\linear_model\\_coordinate_descent.py:529: ConvergenceWarning: Objective did not converge. You might want to increase the number of iterations. Duality gap: 38439563.27823344, tolerance: 220096.64458226462\n",
      "  model = cd_fast.enet_coordinate_descent(\n",
      "C:\\Users\\Sarit\\anaconda3\\lib\\site-packages\\sklearn\\linear_model\\_coordinate_descent.py:529: ConvergenceWarning: Objective did not converge. You might want to increase the number of iterations. Duality gap: 51446455.39480191, tolerance: 438252.9609825682\n",
      "  model = cd_fast.enet_coordinate_descent(\n"
     ]
    },
    {
     "name": "stdout",
     "output_type": "stream",
     "text": [
      "Training Accuracy: 0.85 (+/- 0.28)\n",
      "Intercept: 16360.019185850626\n",
      "Slope: 8531.185865653344\n"
     ]
    },
    {
     "name": "stderr",
     "output_type": "stream",
     "text": [
      "C:\\Users\\Sarit\\anaconda3\\lib\\site-packages\\sklearn\\linear_model\\_coordinate_descent.py:529: ConvergenceWarning: Objective did not converge. You might want to increase the number of iterations. Duality gap: 68797650.36179228, tolerance: 783644.8973368459\n",
      "  model = cd_fast.enet_coordinate_descent(\n"
     ]
    }
   ],
   "source": [
    "# regression model\n",
    "Model = ElasticNet(alpha=0.0001, l1_ratio=0.5, random_state=0).fit(X_train, y_train)\n",
    "\n",
    "# cross validated accucary on train set\n",
    "scores = cross_val_score(Model, X_train, y_train, cv=tscv)\n",
    "\n",
    "print(\"Training Accuracy: %0.2f (+/- %0.2f)\" % (scores.mean(), scores.std() * 2))\n",
    "print(\"Intercept:\", Model.intercept_)\n",
    "print(\"Slope:\", Model.coef_[0])"
   ]
  },
  {
   "cell_type": "markdown",
   "metadata": {},
   "source": [
    "## Accuracy metrics"
   ]
  },
  {
   "cell_type": "code",
   "execution_count": 6,
   "metadata": {},
   "outputs": [
    {
     "data": {
      "application/javascript": [
       "\n",
       "        if (window._pyforest_update_imports_cell) { window._pyforest_update_imports_cell('import pandas as pd\\nimport numpy as np'); }\n",
       "    "
      ],
      "text/plain": [
       "<IPython.core.display.Javascript object>"
      ]
     },
     "metadata": {},
     "output_type": "display_data"
    },
    {
     "data": {
      "application/javascript": [
       "\n",
       "        if (window._pyforest_update_imports_cell) { window._pyforest_update_imports_cell('import pandas as pd\\nimport numpy as np'); }\n",
       "    "
      ],
      "text/plain": [
       "<IPython.core.display.Javascript object>"
      ]
     },
     "metadata": {},
     "output_type": "display_data"
    },
    {
     "data": {
      "application/javascript": [
       "\n",
       "        if (window._pyforest_update_imports_cell) { window._pyforest_update_imports_cell('import pandas as pd\\nimport numpy as np'); }\n",
       "    "
      ],
      "text/plain": [
       "<IPython.core.display.Javascript object>"
      ]
     },
     "metadata": {},
     "output_type": "display_data"
    },
    {
     "data": {
      "application/javascript": [
       "\n",
       "        if (window._pyforest_update_imports_cell) { window._pyforest_update_imports_cell('import pandas as pd\\nimport numpy as np'); }\n",
       "    "
      ],
      "text/plain": [
       "<IPython.core.display.Javascript object>"
      ]
     },
     "metadata": {},
     "output_type": "display_data"
    },
    {
     "data": {
      "application/javascript": [
       "\n",
       "        if (window._pyforest_update_imports_cell) { window._pyforest_update_imports_cell('import pandas as pd\\nimport numpy as np'); }\n",
       "    "
      ],
      "text/plain": [
       "<IPython.core.display.Javascript object>"
      ]
     },
     "metadata": {},
     "output_type": "display_data"
    },
    {
     "data": {
      "application/javascript": [
       "\n",
       "        if (window._pyforest_update_imports_cell) { window._pyforest_update_imports_cell('import pandas as pd\\nimport numpy as np'); }\n",
       "    "
      ],
      "text/plain": [
       "<IPython.core.display.Javascript object>"
      ]
     },
     "metadata": {},
     "output_type": "display_data"
    },
    {
     "data": {
      "application/javascript": [
       "\n",
       "        if (window._pyforest_update_imports_cell) { window._pyforest_update_imports_cell('import pandas as pd\\nimport numpy as np'); }\n",
       "    "
      ],
      "text/plain": [
       "<IPython.core.display.Javascript object>"
      ]
     },
     "metadata": {},
     "output_type": "display_data"
    },
    {
     "data": {
      "application/javascript": [
       "\n",
       "        if (window._pyforest_update_imports_cell) { window._pyforest_update_imports_cell('import pandas as pd\\nimport numpy as np'); }\n",
       "    "
      ],
      "text/plain": [
       "<IPython.core.display.Javascript object>"
      ]
     },
     "metadata": {},
     "output_type": "display_data"
    },
    {
     "data": {
      "application/javascript": [
       "\n",
       "        if (window._pyforest_update_imports_cell) { window._pyforest_update_imports_cell('import pandas as pd\\nimport numpy as np'); }\n",
       "    "
      ],
      "text/plain": [
       "<IPython.core.display.Javascript object>"
      ]
     },
     "metadata": {},
     "output_type": "display_data"
    },
    {
     "data": {
      "application/javascript": [
       "\n",
       "        if (window._pyforest_update_imports_cell) { window._pyforest_update_imports_cell('import pandas as pd\\nimport numpy as np'); }\n",
       "    "
      ],
      "text/plain": [
       "<IPython.core.display.Javascript object>"
      ]
     },
     "metadata": {},
     "output_type": "display_data"
    },
    {
     "data": {
      "application/javascript": [
       "\n",
       "        if (window._pyforest_update_imports_cell) { window._pyforest_update_imports_cell('import pandas as pd\\nimport numpy as np'); }\n",
       "    "
      ],
      "text/plain": [
       "<IPython.core.display.Javascript object>"
      ]
     },
     "metadata": {},
     "output_type": "display_data"
    },
    {
     "data": {
      "application/javascript": [
       "\n",
       "        if (window._pyforest_update_imports_cell) { window._pyforest_update_imports_cell('import pandas as pd\\nimport numpy as np'); }\n",
       "    "
      ],
      "text/plain": [
       "<IPython.core.display.Javascript object>"
      ]
     },
     "metadata": {},
     "output_type": "display_data"
    },
    {
     "data": {
      "application/javascript": [
       "\n",
       "        if (window._pyforest_update_imports_cell) { window._pyforest_update_imports_cell('import pandas as pd\\nimport numpy as np'); }\n",
       "    "
      ],
      "text/plain": [
       "<IPython.core.display.Javascript object>"
      ]
     },
     "metadata": {},
     "output_type": "display_data"
    },
    {
     "data": {
      "application/javascript": [
       "\n",
       "        if (window._pyforest_update_imports_cell) { window._pyforest_update_imports_cell('import pandas as pd\\nimport numpy as np'); }\n",
       "    "
      ],
      "text/plain": [
       "<IPython.core.display.Javascript object>"
      ]
     },
     "metadata": {},
     "output_type": "display_data"
    },
    {
     "data": {
      "application/javascript": [
       "\n",
       "        if (window._pyforest_update_imports_cell) { window._pyforest_update_imports_cell('import pandas as pd\\nimport numpy as np'); }\n",
       "    "
      ],
      "text/plain": [
       "<IPython.core.display.Javascript object>"
      ]
     },
     "metadata": {},
     "output_type": "display_data"
    },
    {
     "data": {
      "application/javascript": [
       "\n",
       "        if (window._pyforest_update_imports_cell) { window._pyforest_update_imports_cell('import pandas as pd\\nimport numpy as np'); }\n",
       "    "
      ],
      "text/plain": [
       "<IPython.core.display.Javascript object>"
      ]
     },
     "metadata": {},
     "output_type": "display_data"
    },
    {
     "data": {
      "application/javascript": [
       "\n",
       "        if (window._pyforest_update_imports_cell) { window._pyforest_update_imports_cell('import pandas as pd\\nimport numpy as np'); }\n",
       "    "
      ],
      "text/plain": [
       "<IPython.core.display.Javascript object>"
      ]
     },
     "metadata": {},
     "output_type": "display_data"
    },
    {
     "data": {
      "application/javascript": [
       "\n",
       "        if (window._pyforest_update_imports_cell) { window._pyforest_update_imports_cell('import pandas as pd\\nimport numpy as np'); }\n",
       "    "
      ],
      "text/plain": [
       "<IPython.core.display.Javascript object>"
      ]
     },
     "metadata": {},
     "output_type": "display_data"
    },
    {
     "name": "stdout",
     "output_type": "stream",
     "text": [
      "                         Training metrics  Validation metrics\n",
      "R-squared                           0.991               0.945\n",
      "Mean Absolute Error               164.399            1315.308\n",
      "Root Mean Squared Error           461.798            1752.268\n",
      "Relative Absolute Error             0.055               0.203\n",
      "Relative Squared Error              0.009               0.055\n"
     ]
    }
   ],
   "source": [
    "# prediction on training\n",
    "trainPredict = Model.predict(X_train)\n",
    "r_squared = r2_score(y_train, trainPredict)\n",
    "mae = np.mean(abs(trainPredict - y_train))\n",
    "rmse = np.sqrt(np.mean((trainPredict - y_train) ** 2))\n",
    "rae = np.mean(abs(trainPredict - y_train)) / np.mean(abs(y_train - np.mean(y_train)))\n",
    "rse = np.mean((trainPredict - y_train) ** 2) / np.mean(\n",
    "    (y_train - np.mean(y_train)) ** 2\n",
    ")\n",
    "sumOfDf = DataFrame(\n",
    "    index=[\n",
    "        \"R-squared\",\n",
    "        \"Mean Absolute Error\",\n",
    "        \"Root Mean Squared Error\",\n",
    "        \"Relative Absolute Error\",\n",
    "        \"Relative Squared Error\",\n",
    "    ]\n",
    ")\n",
    "sumOfDf[\"Training metrics\"] = [r_squared, mae, rmse, rae, rse]\n",
    "\n",
    "# prediction of test\n",
    "testPredict = Model.predict(X_test)\n",
    "r_squared = r2_score(y_test, testPredict)\n",
    "mae = np.mean(abs(testPredict - y_test))\n",
    "rmse = np.sqrt(np.mean((testPredict - y_test) ** 2))\n",
    "rae = np.mean(abs(testPredict - y_test)) / np.mean(abs(y_test - np.mean(y_test)))\n",
    "rse = np.mean((testPredict - y_test) ** 2) / np.mean((y_test - np.mean(y_test)) ** 2)\n",
    "\n",
    "sumOfDf[\"Validation metrics\"] = [r_squared, mae, rmse, rae, rse]\n",
    "sumOfDf = sumOfDf.round(decimals=3)\n",
    "\n",
    "print(sumOfDf)  # accuracy check"
   ]
  },
  {
   "cell_type": "markdown",
   "metadata": {},
   "source": [
    "## Saving model"
   ]
  },
  {
   "cell_type": "code",
   "execution_count": 7,
   "metadata": {},
   "outputs": [],
   "source": [
    "# Save model to file in the current working directory\n",
    "fileName = \"ElasticModel.pkl\"\n",
    "joblib.dump(Model, fileName)\n",
    "\n",
    "# Load from file\n",
    "ElasticModel = joblib.load(fileName)\n",
    "# ElasticModel.predict(X_test)\n",
    "# print(r2_score(y_test, ElasticModel.predict(X_test)))"
   ]
  },
  {
   "cell_type": "markdown",
   "metadata": {},
   "source": [
    "# Train, convert and predict with ONNX Runtime\n",
    "## Backend\n",
    "sklearn-onnx converts models in ONNX format which can be then used to compute predictions with the backend of our choice. However, there exists a way to automatically check every converter with onnxruntime, onnxruntime-gpu. Every converter is tested with this backend."
   ]
  },
  {
   "cell_type": "code",
   "execution_count": 8,
   "metadata": {},
   "outputs": [
    {
     "data": {
      "application/javascript": [
       "\n",
       "        if (window._pyforest_update_imports_cell) { window._pyforest_update_imports_cell('import pandas as pd\\nimport numpy as np'); }\n",
       "    "
      ],
      "text/plain": [
       "<IPython.core.display.Javascript object>"
      ]
     },
     "metadata": {},
     "output_type": "display_data"
    },
    {
     "data": {
      "text/plain": [
       "0.9449481324156145"
      ]
     },
     "execution_count": 8,
     "metadata": {},
     "output_type": "execute_result"
    }
   ],
   "source": [
    "# Convert into ONNX format\n",
    "# input tensors of model: list of ('<wanted name of tensor>', DataType('<shape>'))\n",
    "initialType = [('float_input', FloatTensorType([None, 21]))]\n",
    "\n",
    "onx = convert_sklearn(Model, initial_types=initialType)\n",
    "\n",
    "with open(\"ElasticModel.onnx\", \"wb\") as f:\n",
    "    f.write(onx.SerializeToString())\n",
    "    \n",
    "\n",
    "# Compute the prediction with ONNX Runtime\n",
    "session = rt.InferenceSession(\"ElasticModel.onnx\")\n",
    "\n",
    "inputName = session.get_inputs()[0].name\n",
    "\n",
    "labelName = session.get_outputs()[0].name\n",
    "\n",
    "predictionOnx = session.run([labelName], {inputName: X_test.astype(np.float32)})[0]\n",
    "\n",
    "r2_score(y_test, predictionOnx)"
   ]
  },
  {
   "cell_type": "markdown",
   "metadata": {},
   "source": [
    "## Future forecast"
   ]
  },
  {
   "cell_type": "code",
   "execution_count": 9,
   "metadata": {},
   "outputs": [
    {
     "data": {
      "application/javascript": [
       "\n",
       "        if (window._pyforest_update_imports_cell) { window._pyforest_update_imports_cell('import pandas as pd\\nimport numpy as np'); }\n",
       "    "
      ],
      "text/plain": [
       "<IPython.core.display.Javascript object>"
      ]
     },
     "metadata": {},
     "output_type": "display_data"
    },
    {
     "name": "stdout",
     "output_type": "stream",
     "text": [
      "12 hours forecast (hourly):\n",
      "                  time      Forecast\n",
      "0  2021-02-25 19:00:00  50456.296213\n",
      "1  2021-02-25 20:00:00  49796.020158\n",
      "2  2021-02-25 21:00:00  49394.342405\n",
      "3  2021-02-25 22:00:00  49018.624804\n",
      "4  2021-02-25 23:00:00  48377.972112\n",
      "5  2021-02-26 00:00:00  47671.983455\n",
      "6  2021-02-26 01:00:00  47673.263692\n",
      "7  2021-02-26 02:00:00  48002.043169\n",
      "8  2021-02-26 03:00:00  47946.976100\n",
      "9  2021-02-26 04:00:00  48056.064736\n",
      "10 2021-02-26 05:00:00  47100.796569\n",
      "11 2021-02-26 06:00:00  46971.529322\n"
     ]
    }
   ],
   "source": [
    "# forecast future 12 hrs values\n",
    "foreCastFutureValues = DataFrame(ElasticModel.predict(X_foreCastOut))\n",
    "# print(foreCastFutureValues)\n",
    "\n",
    "# assigning names to columns\n",
    "foreCastFutureValues.rename(columns={0: \"Forecast\"}, inplace=True)\n",
    "\n",
    "newDataframe = finalDataSet.tail(foreCastOut)\n",
    "\n",
    "newDataframe.reset_index(inplace=True)\n",
    "\n",
    "# Fixing future datetime\n",
    "newDataframe = newDataframe.append(\n",
    "    DataFrame(\n",
    "        {\n",
    "            \"time\": pd.date_range(\n",
    "                start=newDataframe.time.iloc[-1],\n",
    "                periods=(len(newDataframe) + 1),\n",
    "                freq=\"H\",\n",
    "                closed=\"right\",\n",
    "            )\n",
    "        }\n",
    "    )\n",
    ")\n",
    "\n",
    "newDataframe.set_index(\"time\", inplace=True)\n",
    "\n",
    "newDataframe = newDataframe.tail(foreCastOut)\n",
    "\n",
    "foreCastFutureValues.index = newDataframe.index\n",
    "\n",
    "print(\"12 hours forecast (hourly):\")\n",
    "foreCastFutureValues.reset_index(inplace=True)\n",
    "\n",
    "print(foreCastFutureValues)"
   ]
  },
  {
   "cell_type": "code",
   "execution_count": null,
   "metadata": {},
   "outputs": [],
   "source": []
  }
 ],
 "metadata": {
  "kernelspec": {
   "display_name": "Python 3.8.3 64-bit ('base': conda)",
   "language": "python",
   "name": "python38364bitbasecondaa484b042fbed4d21ad19847f11dc808b"
  },
  "language_info": {
   "codemirror_mode": {
    "name": "ipython",
    "version": 3
   },
   "file_extension": ".py",
   "mimetype": "text/x-python",
   "name": "python",
   "nbconvert_exporter": "python",
   "pygments_lexer": "ipython3",
   "version": "3.8.5"
  }
 },
 "nbformat": 4,
 "nbformat_minor": 4
}
